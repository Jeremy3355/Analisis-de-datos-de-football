{
 "cells": [
  {
   "cell_type": "code",
   "execution_count": 1,
   "metadata": {},
   "outputs": [],
   "source": [
    "import pandas as pd\n",
    "import ScraperFC as sfc\n",
    "import LanusStats as ls\n",
    "import math\n",
    "import pickle as pkl\n",
    "from mplsoccer import PyPizza, FontManager, grid\n",
    "from scipy import stats"
   ]
  },
  {
   "cell_type": "code",
   "execution_count": 4,
   "metadata": {},
   "outputs": [],
   "source": [
    "# fbref = ls.Fbref()\n",
    "# df = fbref.get_all_player_season_stats(league='Premier League', season='2023-2024')"
   ]
  },
  {
   "cell_type": "code",
   "execution_count": 5,
   "metadata": {},
   "outputs": [],
   "source": [
    "df_players = pd.read_csv('D:\\Futbol\\Analisis de datos\\Diagramas de renidmiento\\data\\PL_players_23-24.csv')\n",
    "df_players = df_players[df_players['Citizenship'] != '[]']\n",
    "df_players.rename(columns={'Name':'Player'}, inplace=True)\n",
    "df_stats = pd.read_csv('D:\\Futbol\\Analisis de datos\\Diagramas de renidmiento\\data\\PL_players_noGK_stats.csv')\n",
    "df_stats.drop(columns=['Unnamed: 0'], inplace=True)"
   ]
  },
  {
   "cell_type": "code",
   "execution_count": 6,
   "metadata": {},
   "outputs": [],
   "source": [
    "def extract_positions(text):\n",
    "    # Dividir el texto por saltos de línea y espacios en blanco\n",
    "    lines = text.split('\\n')\n",
    "    positions = []\n",
    "    for line in lines:\n",
    "        # Dividir por espacios y quitar espacios en blanco\n",
    "        pos = ' '.join(line.split())[2:].strip()\n",
    "        # Si la línea no está vacía y no contiene solo números, añadir a la lista\n",
    "        if pos and not pos[0].isdigit():\n",
    "            positions.append(pos)\n",
    "    return positions"
   ]
  },
  {
   "cell_type": "code",
   "execution_count": 7,
   "metadata": {},
   "outputs": [],
   "source": [
    "def filter_by_position(df, position):\n",
    "    return df[df['Positions'].apply(lambda positions: position in positions)]"
   ]
  },
  {
   "cell_type": "code",
   "execution_count": 8,
   "metadata": {},
   "outputs": [],
   "source": [
    "df_players['Positions'] = df_players.apply(lambda row: [str(row['Position'])] if str(row['Other positions']) == 'nan' else  [str(row['Position'])] + extract_positions(str(row['Other positions'])), axis=1)"
   ]
  },
  {
   "cell_type": "code",
   "execution_count": 9,
   "metadata": {},
   "outputs": [],
   "source": [
    "df_players = df_players[['Player', 'Positions']].reset_index(drop=True)"
   ]
  },
  {
   "cell_type": "code",
   "execution_count": 10,
   "metadata": {},
   "outputs": [],
   "source": [
    "df = pd.merge(df_stats, df_players, on='Player')"
   ]
  },
  {
   "cell_type": "code",
   "execution_count": 11,
   "metadata": {},
   "outputs": [],
   "source": [
    "df_filt = filter_by_position(df, 'Attacking Midfield')"
   ]
  },
  {
   "cell_type": "code",
   "execution_count": 13,
   "metadata": {},
   "outputs": [],
   "source": [
    "with open('D:\\Futbol\\Analisis de datos\\Diagramas de renidmiento\\pkl\\EPL_players_stats.pkl', 'wb') as archivo:\n",
    "    pkl.dump(df, archivo, protocol=pkl.HIGHEST_PROTOCOL)"
   ]
  },
  {
   "cell_type": "code",
   "execution_count": 2,
   "metadata": {},
   "outputs": [],
   "source": [
    "leages = ['Bundesliga', 'Serie A', 'La Liga', 'Ligue 1']"
   ]
  },
  {
   "cell_type": "code",
   "execution_count": 3,
   "metadata": {},
   "outputs": [
    {
     "name": "stderr",
     "output_type": "stream",
     "text": [
      "23/24 Bundesliga player links: 100%|██████████| 18/18 [00:32<00:00,  1.79s/it]\n",
      "23/24 Bundesliga players: 100%|██████████| 1207/1207 [23:16<00:00,  1.16s/it]\n",
      "23/24 Serie A player links: 100%|██████████| 20/20 [00:44<00:00,  2.21s/it]\n",
      "23/24 Serie A players: 100%|██████████| 1561/1561 [29:56<00:00,  1.15s/it]\n",
      "23/24 La Liga player links: 100%|██████████| 20/20 [00:42<00:00,  2.12s/it]\n",
      "23/24 La Liga players: 100%|██████████| 1479/1479 [27:56<00:00,  1.13s/it]\n",
      "23/24 Ligue 1 player links: 100%|██████████| 18/18 [00:41<00:00,  2.31s/it]\n",
      "23/24 Ligue 1 players: 100%|██████████| 1297/1297 [25:08<00:00,  1.16s/it]\n"
     ]
    }
   ],
   "source": [
    "for league in leages:\n",
    "    df = sfc.transfermarkt.Transfermarkt().scrape_players(year='23/24', league=league)\n",
    "    df.to_csv(f'D:\\Futbol\\Analisis de datos\\Diagramas de renidmiento\\data\\{league.replace(\" \", \"_\").lower()}_players_23-24.csv')"
   ]
  }
 ],
 "metadata": {
  "kernelspec": {
   "display_name": "Python 3",
   "language": "python",
   "name": "python3"
  },
  "language_info": {
   "codemirror_mode": {
    "name": "ipython",
    "version": 3
   },
   "file_extension": ".py",
   "mimetype": "text/x-python",
   "name": "python",
   "nbconvert_exporter": "python",
   "pygments_lexer": "ipython3",
   "version": "3.9.13"
  }
 },
 "nbformat": 4,
 "nbformat_minor": 2
}
